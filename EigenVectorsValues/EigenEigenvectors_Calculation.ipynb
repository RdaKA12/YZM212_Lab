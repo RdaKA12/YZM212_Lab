{
 "cells": [
  {
   "cell_type": "markdown",
   "id": "b91cabcd",
   "metadata": {},
   "source": [
    "# Eigenvalue ve Eigenvector Hesaplama"
   ]
  },
  {
   "cell_type": "markdown",
   "id": "a0dca46c",
   "metadata": {},
   "source": [
    "## 2. NumPy ile Özdeğer ve Özvektör Hesaplama\n",
    "Aşağıdaki hücrede `numpy.linalg.eig` kullanılarak bir matrisin özdeğer ve özvektörleri hesaplanır."
   ]
  },
  {
   "cell_type": "code",
   "execution_count": null,
   "id": "2a430887",
   "metadata": {},
   "outputs": [],
   "source": [
    "import numpy as np\n",
    "from numpy.linalg import eig\n",
    "\n",
    "# Örnek matris\n",
    "A = np.array([[6, 1, -1],\n",
    "              [0, 7,  0],\n",
    "              [3, -1, 2]], dtype=float)\n",
    "\n",
    "# NumPy ile özdeğer ve özvektör hesaplama\n",
    "eigenvalues, eigenvectors = eig(A)\n",
    "\n",
    "print(\"Özdeğerler:\", eigenvalues)\n",
    "print(\"Özvektörler (sütun bazında):\\n\", eigenvectors)"
   ]
  },
  {
   "cell_type": "markdown",
   "id": "ff9ca5e1",
   "metadata": {},
   "source": [
    "## 3. Manuel Özdeğer ve Özvektör Hesaplama\n",
    "Aşağıdaki hücrede karakteristik polinom ve SVD tabanlı null space yöntemi ile manuel hesaplama yapılır; sonuçlar NumPy ile karşılaştırılır."
   ]
  },
  {
   "cell_type": "code",
   "execution_count": null,
   "id": "d2bb746c",
   "metadata": {},
   "outputs": [],
   "source": [
    "import numpy as np\n",
    "\n",
    "# Örnek matris\n",
    "A = np.array([[6, 1, -1],\n",
    "              [0, 7,  0],\n",
    "              [3, -1, 2]], dtype=float)\n",
    "\n",
    "# 1) Karakteristik polinom katsayıları\n",
    "coeffs = np.poly(A)\n",
    "print(\"Polinom Katsayıları:\", coeffs)\n",
    "\n",
    "# 2) Polinomun kökleri (özdeğerler)\n",
    "eigenvalues_manual = np.roots(coeffs)\n",
    "print(\"Manuel Özdeğerler:\", eigenvalues_manual)\n",
    "\n",
    "# 3) Özvektörlerin hesaplanması (null space via SVD)\n",
    "eigenvectors_manual = []\n",
    "for val in eigenvalues_manual:\n",
    "    M = A - val * np.eye(A.shape[0])\n",
    "    # SVD ile null space vektörünü bul\n",
    "    _, _, vh = np.linalg.svd(M)\n",
    "    vec = vh.T[:, -1]\n",
    "    # Normalize et\n",
    "    eigenvectors_manual.append(vec / np.linalg.norm(vec))\n",
    "\n",
    "eigenvectors_manual = np.column_stack(eigenvectors_manual)\n",
    "print(\"Manuel Özvektörler (sütun bazında):\\n\", eigenvectors_manual)\n",
    "\n",
    "# 4) NumPy ile sonuç karşılaştırması\n",
    "eigenvalues_np, eigenvectors_np = eig(A)\n",
    "print(\"\\nNumPy Özdeğerler:\", eigenvalues_np)\n",
    "print(\"NumPy Özvektörler: (sütun bazında)\\n\", eigenvectors_np)"
   ]
  }
 ],
 "metadata": {},
 "nbformat": 4,
 "nbformat_minor": 5
}
