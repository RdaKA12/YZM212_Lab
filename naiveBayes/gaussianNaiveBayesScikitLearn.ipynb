{
 "cells": [
  {
   "cell_type": "markdown",
   "id": "ba06795f-7c99-40e3-847a-67f8cbed4f05",
   "metadata": {},
   "source": [
    "# Gaussian Naive Bayes Scikit-Learn"
   ]
  },
  {
   "cell_type": "markdown",
   "id": "43792775-3d83-44de-a7cb-cfa514e0b100",
   "metadata": {},
   "source": [
    "## Kütüphaneler"
   ]
  },
  {
   "cell_type": "code",
   "execution_count": 1,
   "id": "725c0868-f848-4956-a38d-7a59d42618d6",
   "metadata": {},
   "outputs": [
    {
     "name": "stdout",
     "output_type": "stream",
     "text": [
      "Requirement already satisfied: matplotlib in c:\\users\\arda karakaş\\appdata\\local\\programs\\python\\python313\\lib\\site-packages (3.10.1)\n",
      "Requirement already satisfied: pandas in c:\\users\\arda karakaş\\appdata\\local\\programs\\python\\python313\\lib\\site-packages (2.2.3)\n",
      "Requirement already satisfied: numpy in c:\\users\\arda karakaş\\appdata\\local\\programs\\python\\python313\\lib\\site-packages (2.2.2)\n",
      "Requirement already satisfied: scikit-learn in c:\\users\\arda karakaş\\appdata\\local\\programs\\python\\python313\\lib\\site-packages (1.6.1)\n",
      "Requirement already satisfied: openpyxl in c:\\users\\arda karakaş\\appdata\\local\\programs\\python\\python313\\lib\\site-packages (3.1.5)\n",
      "Requirement already satisfied: contourpy>=1.0.1 in c:\\users\\arda karakaş\\appdata\\local\\programs\\python\\python313\\lib\\site-packages (from matplotlib) (1.3.1)\n",
      "Requirement already satisfied: cycler>=0.10 in c:\\users\\arda karakaş\\appdata\\local\\programs\\python\\python313\\lib\\site-packages (from matplotlib) (0.12.1)\n",
      "Requirement already satisfied: fonttools>=4.22.0 in c:\\users\\arda karakaş\\appdata\\local\\programs\\python\\python313\\lib\\site-packages (from matplotlib) (4.56.0)\n",
      "Requirement already satisfied: kiwisolver>=1.3.1 in c:\\users\\arda karakaş\\appdata\\local\\programs\\python\\python313\\lib\\site-packages (from matplotlib) (1.4.8)\n",
      "Requirement already satisfied: packaging>=20.0 in c:\\users\\arda karakaş\\appdata\\local\\programs\\python\\python313\\lib\\site-packages (from matplotlib) (24.2)\n",
      "Requirement already satisfied: pillow>=8 in c:\\users\\arda karakaş\\appdata\\local\\programs\\python\\python313\\lib\\site-packages (from matplotlib) (11.1.0)\n",
      "Requirement already satisfied: pyparsing>=2.3.1 in c:\\users\\arda karakaş\\appdata\\local\\programs\\python\\python313\\lib\\site-packages (from matplotlib) (3.2.1)\n",
      "Requirement already satisfied: python-dateutil>=2.7 in c:\\users\\arda karakaş\\appdata\\local\\programs\\python\\python313\\lib\\site-packages (from matplotlib) (2.9.0.post0)\n",
      "Requirement already satisfied: pytz>=2020.1 in c:\\users\\arda karakaş\\appdata\\local\\programs\\python\\python313\\lib\\site-packages (from pandas) (2025.1)\n",
      "Requirement already satisfied: tzdata>=2022.7 in c:\\users\\arda karakaş\\appdata\\local\\programs\\python\\python313\\lib\\site-packages (from pandas) (2025.1)\n",
      "Requirement already satisfied: scipy>=1.6.0 in c:\\users\\arda karakaş\\appdata\\local\\programs\\python\\python313\\lib\\site-packages (from scikit-learn) (1.15.2)\n",
      "Requirement already satisfied: joblib>=1.2.0 in c:\\users\\arda karakaş\\appdata\\local\\programs\\python\\python313\\lib\\site-packages (from scikit-learn) (1.4.2)\n",
      "Requirement already satisfied: threadpoolctl>=3.1.0 in c:\\users\\arda karakaş\\appdata\\local\\programs\\python\\python313\\lib\\site-packages (from scikit-learn) (3.5.0)\n",
      "Requirement already satisfied: et-xmlfile in c:\\users\\arda karakaş\\appdata\\local\\programs\\python\\python313\\lib\\site-packages (from openpyxl) (2.0.0)\n",
      "Requirement already satisfied: six>=1.5 in c:\\users\\arda karakaş\\appdata\\local\\programs\\python\\python313\\lib\\site-packages (from python-dateutil>=2.7->matplotlib) (1.17.0)\n"
     ]
    }
   ],
   "source": [
    "!pip install matplotlib pandas numpy scikit-learn openpyxl"
   ]
  },
  {
   "cell_type": "code",
   "execution_count": 6,
   "id": "b9dbc3c7-0de5-4bec-a1b9-cd428540e12c",
   "metadata": {},
   "outputs": [
    {
     "name": "stdout",
     "output_type": "stream",
     "text": [
      "Veri seti boyutu: (9400, 12)\n",
      "<class 'pandas.core.frame.DataFrame'>\n",
      "RangeIndex: 9400 entries, 0 to 9399\n",
      "Data columns (total 12 columns):\n",
      " #   Column             Non-Null Count  Dtype  \n",
      "---  ------             --------------  -----  \n",
      " 0   id                 9400 non-null   int64  \n",
      " 1   gender             9400 non-null   object \n",
      " 2   age                9400 non-null   float64\n",
      " 3   hypertension       9400 non-null   int64  \n",
      " 4   heart_disease      9400 non-null   int64  \n",
      " 5   ever_married       9400 non-null   object \n",
      " 6   work_type          9400 non-null   object \n",
      " 7   Residence_type     9400 non-null   object \n",
      " 8   avg_glucose_level  9400 non-null   float64\n",
      " 9   bmi                9400 non-null   float64\n",
      " 10  smoking_status     9400 non-null   object \n",
      " 11  stroke             9400 non-null   int64  \n",
      "dtypes: float64(3), int64(4), object(5)\n",
      "memory usage: 881.4+ KB\n",
      "None\n",
      "                 id          age  hypertension  heart_disease  \\\n",
      "count   9400.000000  9400.000000   9400.000000    9400.000000   \n",
      "mean   37310.673723    54.815332      0.182340       0.116064   \n",
      "std    21653.294176    22.192949      0.386145       0.320318   \n",
      "min       77.000000     0.080000      0.000000       0.000000   \n",
      "25%    17660.750000    41.000000      0.000000       0.000000   \n",
      "50%    37132.000000    59.000000      0.000000       0.000000   \n",
      "75%    56669.000000    74.000000      0.000000       0.000000   \n",
      "max    72940.000000    82.000000      1.000000       1.000000   \n",
      "\n",
      "       avg_glucose_level          bmi       stroke  \n",
      "count        9400.000000  9400.000000  9400.000000  \n",
      "mean          120.158255    29.692245     0.500000  \n",
      "std            56.169339     7.158566     0.500027  \n",
      "min            55.120000    10.300000     0.000000  \n",
      "25%            78.700000    25.000000     0.000000  \n",
      "50%            97.595000    28.800000     0.500000  \n",
      "75%           152.622500    33.600000     1.000000  \n",
      "max           271.740000    97.600000     1.000000  \n",
      "\n",
      "Eksik Değerler:\n",
      "id                   0\n",
      "gender               0\n",
      "age                  0\n",
      "hypertension         0\n",
      "heart_disease        0\n",
      "ever_married         0\n",
      "work_type            0\n",
      "Residence_type       0\n",
      "avg_glucose_level    0\n",
      "bmi                  0\n",
      "smoking_status       0\n",
      "stroke               0\n",
      "dtype: int64\n",
      "\n",
      "Eksik değerler doldurulduktan sonra:\n",
      "id                   0\n",
      "gender               0\n",
      "age                  0\n",
      "hypertension         0\n",
      "heart_disease        0\n",
      "ever_married         0\n",
      "work_type            0\n",
      "Residence_type       0\n",
      "avg_glucose_level    0\n",
      "bmi                  0\n",
      "smoking_status       0\n",
      "stroke               0\n",
      "dtype: int64\n",
      "\n",
      "Hedef değişken (stroke) dağılımı:\n",
      "stroke\n",
      "0    4700\n",
      "1    4700\n",
      "Name: count, dtype: int64\n",
      "Scaled X shape: (9400, 21)\n"
     ]
    }
   ],
   "source": [
    "import numpy as np\n",
    "import matplotlib.pyplot as plt\n",
    "import time\n",
    "from sklearn.model_selection import train_test_split\n",
    "from sklearn.naive_bayes import GaussianNB\n",
    "from sklearn.metrics import confusion_matrix, accuracy_score\n",
    "#datapreprocessingden veriyi almak için\n",
    "%run dataPreprocessing.ipynb"
   ]
  },
  {
   "cell_type": "markdown",
   "id": "2bb24727-2e25-4c56-ae29-87a19e549e4e",
   "metadata": {},
   "source": [
    "## Eğitim ve Test Verisini Ayırma"
   ]
  },
  {
   "cell_type": "code",
   "execution_count": 7,
   "id": "93a69c83-4207-426b-a650-f050bff66cd8",
   "metadata": {},
   "outputs": [],
   "source": [
    "X_train, X_test, y_train, y_test = train_test_split(X, y, test_size=0.3, random_state=42)"
   ]
  },
  {
   "cell_type": "markdown",
   "id": "cf907188-c9cb-4ab5-bb04-b359d54091c7",
   "metadata": {},
   "source": [
    "## GaussianNB modelini oluşturma"
   ]
  },
  {
   "cell_type": "code",
   "execution_count": 8,
   "id": "ec5005a1-d1e5-4cef-837d-55bd4c0a69b3",
   "metadata": {},
   "outputs": [
    {
     "name": "stdout",
     "output_type": "stream",
     "text": [
      "\n",
      "--- Scikit-Learn GaussianNB Modeli ---\n"
     ]
    }
   ],
   "source": [
    "print(\"\\n--- Scikit-Learn GaussianNB Modeli ---\")\n",
    "sk_model = GaussianNB()"
   ]
  },
  {
   "cell_type": "markdown",
   "id": "d5b15621-7434-40ac-be0f-b0590a968a38",
   "metadata": {},
   "source": [
    "## Performans Ölçümleri ve Matris oluşturma Görselleştirme\n"
   ]
  },
  {
   "cell_type": "code",
   "execution_count": 9,
   "id": "aa91e64e-0fd1-4b91-809f-e5aa7e3ad235",
   "metadata": {},
   "outputs": [
    {
     "name": "stdout",
     "output_type": "stream",
     "text": [
      "Scikit-Learn Modeli Eğitim Süresi: 0.004120 sn\n",
      "Scikit-Learn Modeli Tahmin Süresi: 0.001349 sn\n",
      "Scikit-Learn Modeli Doğruluk Oranı: 0.5719858156028369\n",
      "Scikit-Learn Karmaşıklık Matrisi:\n",
      " [[ 187 1203]\n",
      " [   4 1426]]\n"
     ]
    },
    {
     "data": {
      "image/png": "[encoded data removed]",
      "text/plain": [
       "<Figure size 600x400 with 2 Axes>"
      ]
     },
     "metadata": {},
     "output_type": "display_data"
    }
   ],
   "source": [
    "start_time = time.time()\n",
    "sk_model.fit(X_train, y_train)\n",
    "sk_fit_time = time.time() - start_time\n",
    "start_time = time.time()\n",
    "y_pred_sk = sk_model.predict(X_test)\n",
    "sk_predict_time = time.time() - start_time\n",
    "sk_cm = confusion_matrix(y_test, y_pred_sk)\n",
    "sk_accuracy = accuracy_score(y_test, y_pred_sk)\n",
    "\n",
    "print(\"Scikit-Learn Modeli Eğitim Süresi: {:.6f} sn\".format(sk_fit_time))\n",
    "print(\"Scikit-Learn Modeli Tahmin Süresi: {:.6f} sn\".format(sk_predict_time))\n",
    "print(\"Scikit-Learn Modeli Doğruluk Oranı:\", sk_accuracy)\n",
    "print(\"Scikit-Learn Karmaşıklık Matrisi:\\n\", sk_cm)\n",
    "\n",
    "classes = np.unique(y)\n",
    "tick_marks = np.arange(len(classes))\n",
    "\n",
    "plt.figure(figsize=(6, 4))\n",
    "plt.imshow(sk_cm, interpolation='nearest', cmap=plt.cm.Blues)\n",
    "plt.title(\"Scikit-Learn GaussianNB - Karmaşıklık Matrisi\")\n",
    "plt.colorbar()\n",
    "plt.xticks(tick_marks, classes, rotation=45)\n",
    "plt.yticks(tick_marks, classes)\n",
    "plt.xlabel(\"Tahmin Edilen\")\n",
    "plt.ylabel(\"Gerçek\")\n",
    "plt.show()"
   ]
  }
 ],
 "metadata": {
  "kernelspec": {
   "display_name": "Python 3 (ipykernel)",
   "language": "python",
   "name": "python3"
  },
  "language_info": {
   "codemirror_mode": {
    "name": "ipython",
    "version": 3
   },
   "file_extension": ".py",
   "mimetype": "text/x-python",
   "name": "python",
   "nbconvert_exporter": "python",
   "pygments_lexer": "ipython3",
   "version": "3.13.2"
  }
 },
 "nbformat": 4,
 "nbformat_minor": 5
}
