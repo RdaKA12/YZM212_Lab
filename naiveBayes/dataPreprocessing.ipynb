{
 "cells": [
  {
   "cell_type": "markdown",
   "id": "c9fde827-528e-4ddf-b687-87168452a82d",
   "metadata": {},
   "source": [
    "# Veri Ön İşleme"
   ]
  },
  {
   "cell_type": "markdown",
   "id": "d3b82448-aea1-4636-9c35-69a3aad200cc",
   "metadata": {},
   "source": [
    "## Kütüphaneler"
   ]
  },
  {
   "cell_type": "code",
   "execution_count": 2,
   "id": "f7a6bd98-76e4-4913-a752-21f9a15c0727",
   "metadata": {},
   "outputs": [],
   "source": [
    "import pandas as pd\n",
    "from sklearn.preprocessing import StandardScaler"
   ]
  },
  {
   "cell_type": "markdown",
   "id": "f462cffc-20c6-4719-b76d-37a454fbc4f9",
   "metadata": {},
   "source": [
    "## Veri Setini Yükleme"
   ]
  },
  {
   "cell_type": "code",
   "execution_count": 3,
   "id": "4d4490cf-2b5d-472c-8ea6-04a45b5b8bb5",
   "metadata": {},
   "outputs": [
    {
     "name": "stdout",
     "output_type": "stream",
     "text": [
      "Veri seti boyutu: (9400, 12)\n",
      "<class 'pandas.core.frame.DataFrame'>\n",
      "RangeIndex: 9400 entries, 0 to 9399\n",
      "Data columns (total 12 columns):\n",
      " #   Column             Non-Null Count  Dtype  \n",
      "---  ------             --------------  -----  \n",
      " 0   id                 9400 non-null   int64  \n",
      " 1   gender             9400 non-null   object \n",
      " 2   age                9400 non-null   float64\n",
      " 3   hypertension       9400 non-null   int64  \n",
      " 4   heart_disease      9400 non-null   int64  \n",
      " 5   ever_married       9400 non-null   object \n",
      " 6   work_type          9400 non-null   object \n",
      " 7   Residence_type     9400 non-null   object \n",
      " 8   avg_glucose_level  9400 non-null   float64\n",
      " 9   bmi                9400 non-null   float64\n",
      " 10  smoking_status     9400 non-null   object \n",
      " 11  stroke             9400 non-null   int64  \n",
      "dtypes: float64(3), int64(4), object(5)\n",
      "memory usage: 881.4+ KB\n",
      "None\n",
      "                 id          age  hypertension  heart_disease  \\\n",
      "count   9400.000000  9400.000000   9400.000000    9400.000000   \n",
      "mean   37310.673723    54.815332      0.182340       0.116064   \n",
      "std    21653.294176    22.192949      0.386145       0.320318   \n",
      "min       77.000000     0.080000      0.000000       0.000000   \n",
      "25%    17660.750000    41.000000      0.000000       0.000000   \n",
      "50%    37132.000000    59.000000      0.000000       0.000000   \n",
      "75%    56669.000000    74.000000      0.000000       0.000000   \n",
      "max    72940.000000    82.000000      1.000000       1.000000   \n",
      "\n",
      "       avg_glucose_level          bmi       stroke  \n",
      "count        9400.000000  9400.000000  9400.000000  \n",
      "mean          120.158255    29.692245     0.500000  \n",
      "std            56.169339     7.158566     0.500027  \n",
      "min            55.120000    10.300000     0.000000  \n",
      "25%            78.700000    25.000000     0.000000  \n",
      "50%            97.595000    28.800000     0.500000  \n",
      "75%           152.622500    33.600000     1.000000  \n",
      "max           271.740000    97.600000     1.000000  \n"
     ]
    }
   ],
   "source": [
    "data= pd.read_excel(\"stroke_data.xlsx\")\n",
    "\n",
    "print(\"Veri seti boyutu:\",data.shape)\n",
    "print(data.info())\n",
    "print(data.describe())"
   ]
  },
  {
   "cell_type": "markdown",
   "id": "ec094c4a-be86-4d13-8155-82260a72f5fe",
   "metadata": {},
   "source": [
    "## Varsa Eksik Değerlerin Kontrolü ve Doldurulması / Varsa Anlamsız Sütunların Ayrılması"
   ]
  },
  {
   "cell_type": "code",
   "execution_count": 4,
   "id": "11dc4ffa-d8cd-4407-b205-288ca9ab3e6e",
   "metadata": {},
   "outputs": [
    {
     "name": "stdout",
     "output_type": "stream",
     "text": [
      "\n",
      "Eksik Değerler:\n",
      "id                   0\n",
      "gender               0\n",
      "age                  0\n",
      "hypertension         0\n",
      "heart_disease        0\n",
      "ever_married         0\n",
      "work_type            0\n",
      "Residence_type       0\n",
      "avg_glucose_level    0\n",
      "bmi                  0\n",
      "smoking_status       0\n",
      "stroke               0\n",
      "dtype: int64\n",
      "\n",
      "Eksik değerler doldurulduktan sonra:\n",
      "id                   0\n",
      "gender               0\n",
      "age                  0\n",
      "hypertension         0\n",
      "heart_disease        0\n",
      "ever_married         0\n",
      "work_type            0\n",
      "Residence_type       0\n",
      "avg_glucose_level    0\n",
      "bmi                  0\n",
      "smoking_status       0\n",
      "stroke               0\n",
      "dtype: int64\n",
      "\n",
      "Hedef değişken (stroke) dağılımı:\n",
      "stroke\n",
      "0    4700\n",
      "1    4700\n",
      "Name: count, dtype: int64\n"
     ]
    }
   ],
   "source": [
    "print(\"\\nEksik Değerler:\")\n",
    "print(data.isnull().sum())\n",
    "\n",
    "for col in data.columns:\n",
    "    if pd.api.types.is_numeric_dtype(data[col]):\n",
    "        data[col]= data[col].fillna(data[col].mean())\n",
    "    else:\n",
    "        data[col]= data[col].fillna(data[col].mode()[0])\n",
    "\n",
    "print(\"\\nEksik değerler doldurulduktan sonra:\")\n",
    "print(data.isnull().sum())\n",
    "print(\"\\nHedef değişken (stroke) dağılımı:\")\n",
    "print(data['stroke'].value_counts())\n",
    "\n",
    "data = data.drop('id', axis=1)"
   ]
  },
  {
   "cell_type": "markdown",
   "id": "35038244-51ea-4994-b1b4-a01e8f9926d7",
   "metadata": {},
   "source": [
    "## Değişkenlerin Ayrılması(Label/Features) , Kategorik Olanların Sayısallaştırılması(one-hot encoding) , Özelliklerin Ölçeklendirilmesi"
   ]
  },
  {
   "cell_type": "code",
   "execution_count": 6,
   "id": "a85f6e35-6c90-4f2e-8086-3743b2ea5347",
   "metadata": {},
   "outputs": [
    {
     "name": "stdout",
     "output_type": "stream",
     "text": [
      "Scaled X shape: (9400, 21)\n"
     ]
    }
   ],
   "source": [
    "X = data.drop('stroke', axis=1)\n",
    "y = data['stroke']\n",
    "\n",
    "#one-hot encoding\n",
    "X = pd.get_dummies(X)\n",
    "\n",
    "scaler = StandardScaler()\n",
    "X_scaled = scaler.fit_transform(X)\n",
    "\n",
    "#dataFrame formatına çevirme(sütun isimlerini korumak için)\n",
    "X = pd.DataFrame(X_scaled, columns=X.columns)\n",
    "print(\"Scaled X shape:\", X.shape)"
   ]
  }
 ],
 "metadata": {
  "kernelspec": {
   "display_name": "Python 3 (ipykernel)",
   "language": "python",
   "name": "python3"
  },
  "language_info": {
   "codemirror_mode": {
    "name": "ipython",
    "version": 3
   },
   "file_extension": ".py",
   "mimetype": "text/x-python",
   "name": "python",
   "nbconvert_exporter": "python",
   "pygments_lexer": "ipython3",
   "version": "3.13.2"
  }
 },
 "nbformat": 4,
 "nbformat_minor": 5
}
