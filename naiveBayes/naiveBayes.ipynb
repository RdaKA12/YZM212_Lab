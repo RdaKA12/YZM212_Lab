{
 "cells": [
  {
   "cell_type": "markdown",
   "id": "c4cbdd5a-8c3e-484e-bc8e-9a8e36585ffa",
   "metadata": {},
   "source": [
    "# Naive Bayes"
   ]
  },
  {
   "cell_type": "markdown",
   "id": "ed4fdfff-f053-45cb-a2c3-998bf892d12a",
   "metadata": {},
   "source": [
    "## Kütüphaneler"
   ]
  },
  {
   "cell_type": "code",
   "execution_count": 2,
   "id": "714d08bd-c99e-4847-b040-7bfee034b463",
   "metadata": {},
   "outputs": [
    {
     "name": "stdout",
     "output_type": "stream",
     "text": [
      "Requirement already satisfied: matplotlib in c:\\users\\arda karakaş\\appdata\\local\\programs\\python\\python313\\lib\\site-packages (3.10.1)\n",
      "Requirement already satisfied: pandas in c:\\users\\arda karakaş\\appdata\\local\\programs\\python\\python313\\lib\\site-packages (2.2.3)\n",
      "Requirement already satisfied: numpy in c:\\users\\arda karakaş\\appdata\\local\\programs\\python\\python313\\lib\\site-packages (2.2.2)\n",
      "Requirement already satisfied: scikit-learn in c:\\users\\arda karakaş\\appdata\\local\\programs\\python\\python313\\lib\\site-packages (1.6.1)\n",
      "Requirement already satisfied: openpyxl in c:\\users\\arda karakaş\\appdata\\local\\programs\\python\\python313\\lib\\site-packages (3.1.5)\n",
      "Requirement already satisfied: contourpy>=1.0.1 in c:\\users\\arda karakaş\\appdata\\local\\programs\\python\\python313\\lib\\site-packages (from matplotlib) (1.3.1)\n",
      "Requirement already satisfied: cycler>=0.10 in c:\\users\\arda karakaş\\appdata\\local\\programs\\python\\python313\\lib\\site-packages (from matplotlib) (0.12.1)\n",
      "Requirement already satisfied: fonttools>=4.22.0 in c:\\users\\arda karakaş\\appdata\\local\\programs\\python\\python313\\lib\\site-packages (from matplotlib) (4.56.0)\n",
      "Requirement already satisfied: kiwisolver>=1.3.1 in c:\\users\\arda karakaş\\appdata\\local\\programs\\python\\python313\\lib\\site-packages (from matplotlib) (1.4.8)\n",
      "Requirement already satisfied: packaging>=20.0 in c:\\users\\arda karakaş\\appdata\\local\\programs\\python\\python313\\lib\\site-packages (from matplotlib) (24.2)\n",
      "Requirement already satisfied: pillow>=8 in c:\\users\\arda karakaş\\appdata\\local\\programs\\python\\python313\\lib\\site-packages (from matplotlib) (11.1.0)\n",
      "Requirement already satisfied: pyparsing>=2.3.1 in c:\\users\\arda karakaş\\appdata\\local\\programs\\python\\python313\\lib\\site-packages (from matplotlib) (3.2.1)\n",
      "Requirement already satisfied: python-dateutil>=2.7 in c:\\users\\arda karakaş\\appdata\\local\\programs\\python\\python313\\lib\\site-packages (from matplotlib) (2.9.0.post0)\n",
      "Requirement already satisfied: pytz>=2020.1 in c:\\users\\arda karakaş\\appdata\\local\\programs\\python\\python313\\lib\\site-packages (from pandas) (2025.1)\n",
      "Requirement already satisfied: tzdata>=2022.7 in c:\\users\\arda karakaş\\appdata\\local\\programs\\python\\python313\\lib\\site-packages (from pandas) (2025.1)\n",
      "Requirement already satisfied: scipy>=1.6.0 in c:\\users\\arda karakaş\\appdata\\local\\programs\\python\\python313\\lib\\site-packages (from scikit-learn) (1.15.2)\n",
      "Requirement already satisfied: joblib>=1.2.0 in c:\\users\\arda karakaş\\appdata\\local\\programs\\python\\python313\\lib\\site-packages (from scikit-learn) (1.4.2)\n",
      "Requirement already satisfied: threadpoolctl>=3.1.0 in c:\\users\\arda karakaş\\appdata\\local\\programs\\python\\python313\\lib\\site-packages (from scikit-learn) (3.5.0)\n",
      "Requirement already satisfied: et-xmlfile in c:\\users\\arda karakaş\\appdata\\local\\programs\\python\\python313\\lib\\site-packages (from openpyxl) (2.0.0)\n",
      "Requirement already satisfied: six>=1.5 in c:\\users\\arda karakaş\\appdata\\local\\programs\\python\\python313\\lib\\site-packages (from python-dateutil>=2.7->matplotlib) (1.17.0)\n"
     ]
    }
   ],
   "source": [
    "!pip install matplotlib pandas numpy scikit-learn openpyxl"
   ]
  },
  {
   "cell_type": "code",
   "execution_count": 2,
   "id": "d7f479d8-77b9-452f-9908-04f61f24e5a5",
   "metadata": {},
   "outputs": [
    {
     "name": "stdout",
     "output_type": "stream",
     "text": [
      "Veri seti boyutu: (9400, 12)\n",
      "<class 'pandas.core.frame.DataFrame'>\n",
      "RangeIndex: 9400 entries, 0 to 9399\n",
      "Data columns (total 12 columns):\n",
      " #   Column             Non-Null Count  Dtype  \n",
      "---  ------             --------------  -----  \n",
      " 0   id                 9400 non-null   int64  \n",
      " 1   gender             9400 non-null   object \n",
      " 2   age                9400 non-null   float64\n",
      " 3   hypertension       9400 non-null   int64  \n",
      " 4   heart_disease      9400 non-null   int64  \n",
      " 5   ever_married       9400 non-null   object \n",
      " 6   work_type          9400 non-null   object \n",
      " 7   Residence_type     9400 non-null   object \n",
      " 8   avg_glucose_level  9400 non-null   float64\n",
      " 9   bmi                9400 non-null   float64\n",
      " 10  smoking_status     9400 non-null   object \n",
      " 11  stroke             9400 non-null   int64  \n",
      "dtypes: float64(3), int64(4), object(5)\n",
      "memory usage: 881.4+ KB\n",
      "None\n",
      "                 id          age  hypertension  heart_disease  \\\n",
      "count   9400.000000  9400.000000   9400.000000    9400.000000   \n",
      "mean   37310.673723    54.815332      0.182340       0.116064   \n",
      "std    21653.294176    22.192949      0.386145       0.320318   \n",
      "min       77.000000     0.080000      0.000000       0.000000   \n",
      "25%    17660.750000    41.000000      0.000000       0.000000   \n",
      "50%    37132.000000    59.000000      0.000000       0.000000   \n",
      "75%    56669.000000    74.000000      0.000000       0.000000   \n",
      "max    72940.000000    82.000000      1.000000       1.000000   \n",
      "\n",
      "       avg_glucose_level          bmi       stroke  \n",
      "count        9400.000000  9400.000000  9400.000000  \n",
      "mean          120.158255    29.692245     0.500000  \n",
      "std            56.169339     7.158566     0.500027  \n",
      "min            55.120000    10.300000     0.000000  \n",
      "25%            78.700000    25.000000     0.000000  \n",
      "50%            97.595000    28.800000     0.500000  \n",
      "75%           152.622500    33.600000     1.000000  \n",
      "max           271.740000    97.600000     1.000000  \n",
      "\n",
      "Eksik Değerler:\n",
      "id                   0\n",
      "gender               0\n",
      "age                  0\n",
      "hypertension         0\n",
      "heart_disease        0\n",
      "ever_married         0\n",
      "work_type            0\n",
      "Residence_type       0\n",
      "avg_glucose_level    0\n",
      "bmi                  0\n",
      "smoking_status       0\n",
      "stroke               0\n",
      "dtype: int64\n",
      "\n",
      "Eksik değerler doldurulduktan sonra:\n",
      "id                   0\n",
      "gender               0\n",
      "age                  0\n",
      "hypertension         0\n",
      "heart_disease        0\n",
      "ever_married         0\n",
      "work_type            0\n",
      "Residence_type       0\n",
      "avg_glucose_level    0\n",
      "bmi                  0\n",
      "smoking_status       0\n",
      "stroke               0\n",
      "dtype: int64\n",
      "\n",
      "Hedef değişken (stroke) dağılımı:\n",
      "stroke\n",
      "0    4700\n",
      "1    4700\n",
      "Name: count, dtype: int64\n",
      "Scaled X shape: (9400, 21)\n"
     ]
    }
   ],
   "source": [
    "import numpy as np\n",
    "import time\n",
    "import matplotlib.pyplot as plt\n",
    "from sklearn.metrics import confusion_matrix, accuracy_score\n",
    "from sklearn.model_selection import train_test_split\n",
    "\n",
    "%run dataPreprocessing.ipynb"
   ]
  },
  {
   "cell_type": "markdown",
   "id": "0daf6bcc-22a8-4187-8fe4-b704c1008253",
   "metadata": {},
   "source": [
    "## Eğitim ve Test Verisinin Ayrılması"
   ]
  },
  {
   "cell_type": "code",
   "execution_count": 3,
   "id": "6aa44041-50ed-4c1f-a5b4-b1ca68a354c9",
   "metadata": {},
   "outputs": [],
   "source": [
    "X_train, X_test, y_train, y_test = train_test_split(X, y, test_size=0.3, random_state=42)"
   ]
  },
  {
   "cell_type": "markdown",
   "id": "e73bc9eb-93dd-48af-a916-ed5636b2da86",
   "metadata": {},
   "source": [
    "## GaussianNB sınıfının tanımlanması"
   ]
  },
  {
   "cell_type": "code",
   "execution_count": 4,
   "id": "6bbfebd2-0415-46c4-8977-08599502fa71",
   "metadata": {},
   "outputs": [],
   "source": [
    "class CustomGaussianNB:\n",
    "    def __init__(self):\n",
    "        self.classes = None\n",
    "        self.mean = {}\n",
    "        self.var = {}\n",
    "        self.priors = {}\n",
    "\n",
    "    def fit(self, X, y):\n",
    "        self.classes = np.unique(y)\n",
    "        for cls in self.classes:\n",
    "            X_cls = X[y == cls]\n",
    "            self.mean[cls] = X_cls.mean(axis=0)\n",
    "            self.var[cls] = X_cls.var(axis=0)\n",
    "            self.priors[cls] = len(X_cls) / float(len(X))\n",
    "\n",
    "    def gaussian_log_prob(self, x, mean, var):\n",
    "        eps = 1e-9  # Bölme sıfır hatasını önlemek için\n",
    "        var = np.asarray(var, dtype=np.float64)\n",
    "        coeff = -0.5 * np.log(2.0 * np.pi * var + eps)\n",
    "        exponent = - ((x - mean) ** 2) / (2 * var + eps)\n",
    "        return coeff + exponent\n",
    "\n",
    "    def predict(self, X):\n",
    "        y_pred = []\n",
    "        for i in range(X.shape[0]):\n",
    "            sample = X[i]\n",
    "            class_probs = {}\n",
    "            for cls in self.classes:\n",
    "                log_prior = np.log(self.priors[cls])\n",
    "                log_likelihood = np.sum(self.gaussian_log_prob(sample, self.mean[cls], self.var[cls]))\n",
    "                class_probs[cls] = log_prior + log_likelihood\n",
    "            y_pred.append(max(class_probs, key=class_probs.get))\n",
    "        return np.array(y_pred)"
   ]
  },
  {
   "cell_type": "markdown",
   "id": "e330b3c1-87e1-4157-8f34-8151e9d616ac",
   "metadata": {},
   "source": [
    "## Veri Setlerini numpy Arraye Çevirme"
   ]
  },
  {
   "cell_type": "code",
   "execution_count": 5,
   "id": "06ef0e3f-1522-4a5b-b734-7285ce4e2506",
   "metadata": {},
   "outputs": [],
   "source": [
    "X_train_np = X_train.values\n",
    "X_test_np = X_test.values\n",
    "y_train_np = y_train.values\n",
    "y_test_np = y_test.values"
   ]
  },
  {
   "cell_type": "markdown",
   "id": "fce6dc5b-cbe2-4f60-844e-5a27558c342c",
   "metadata": {},
   "source": [
    "## Modeli oluşturma ve eğitme"
   ]
  },
  {
   "cell_type": "code",
   "execution_count": 6,
   "id": "dffdfc09-6a22-4895-bdfc-0dc50dd8e5ad",
   "metadata": {},
   "outputs": [
    {
     "name": "stdout",
     "output_type": "stream",
     "text": [
      "\n",
      "--- Custom GaussianNB Modeli ---\n"
     ]
    }
   ],
   "source": [
    "print(\"\\n--- Custom GaussianNB Modeli ---\")\n",
    "custom_model = CustomGaussianNB()\n",
    "start_time = time.time()\n",
    "custom_model.fit(X_train_np, y_train_np)\n",
    "custom_fit_time = time.time() - start_time"
   ]
  },
  {
   "cell_type": "markdown",
   "id": "c80e7e1e-19d3-4188-b3e0-ee92d05eeff1",
   "metadata": {},
   "source": [
    "## Performan Ölçümleri ve Matris Oluşturma"
   ]
  },
  {
   "cell_type": "code",
   "execution_count": 7,
   "id": "5e0b09d3-b9d2-48d1-ab9c-d429776e8068",
   "metadata": {},
   "outputs": [
    {
     "name": "stdout",
     "output_type": "stream",
     "text": [
      "Custom Model Eğitim Süresi: 0.001268 sn\n",
      "Custom Model Tahmin Süresi: 0.068243 sn\n",
      "Custom Model Doğruluk Oranı: 0.5719858156028369\n",
      "Custom Model Karmaşıklık Matrisi:\n",
      " [[ 187 1203]\n",
      " [   4 1426]]\n"
     ]
    },
    {
     "data": {
      "image/png": "[encoded data removed]",
      "text/plain": [
       "<Figure size 600x400 with 2 Axes>"
      ]
     },
     "metadata": {},
     "output_type": "display_data"
    }
   ],
   "source": [
    "start_time = time.time()\n",
    "y_pred_custom = custom_model.predict(X_test_np)\n",
    "custom_predict_time = time.time() - start_time\n",
    "custom_cm = confusion_matrix(y_test_np, y_pred_custom)\n",
    "custom_accuracy = accuracy_score(y_test_np, y_pred_custom)\n",
    "\n",
    "print(\"Custom Model Eğitim Süresi: {:.6f} sn\".format(custom_fit_time))\n",
    "print(\"Custom Model Tahmin Süresi: {:.6f} sn\".format(custom_predict_time))\n",
    "print(\"Custom Model Doğruluk Oranı:\", custom_accuracy)\n",
    "print(\"Custom Model Karmaşıklık Matrisi:\\n\", custom_cm)\n",
    "\n",
    "classes = np.unique(y)\n",
    "tick_marks = np.arange(len(classes))\n",
    "\n",
    "plt.figure(figsize=(6, 4))\n",
    "plt.imshow(custom_cm, interpolation='nearest', cmap=plt.cm.Oranges)\n",
    "plt.title(\"Custom GaussianNB - Karmaşıklık Matrisi\")\n",
    "plt.colorbar()\n",
    "plt.xticks(tick_marks, classes, rotation=45)\n",
    "plt.yticks(tick_marks, classes)\n",
    "plt.xlabel(\"Tahmin Edilen\")\n",
    "plt.ylabel(\"Gerçek\")\n",
    "plt.show()"
   ]
  }
 ],
 "metadata": {
  "kernelspec": {
   "display_name": "Python 3 (ipykernel)",
   "language": "python",
   "name": "python3"
  },
  "language_info": {
   "codemirror_mode": {
    "name": "ipython",
    "version": 3
   },
   "file_extension": ".py",
   "mimetype": "text/x-python",
   "name": "python",
   "nbconvert_exporter": "python",
   "pygments_lexer": "ipython3",
   "version": "3.13.2"
  }
 },
 "nbformat": 4,
 "nbformat_minor": 5
}
