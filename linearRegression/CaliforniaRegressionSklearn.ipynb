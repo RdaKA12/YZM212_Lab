{
 "cells": [
  {
   "cell_type": "markdown",
   "id": "44a96719",
   "metadata": {},
   "source": [
    "# Linear Regression with scikit-learn\n",
    "\n",
    "Veri: California Housing (Rooms vs Price)"
   ]
  },
  {
   "cell_type": "code",
   "execution_count": null,
   "id": "fb50ebb1",
   "metadata": {},
   "outputs": [],
   "source": [
    "\n",
    "import pandas as pd\n",
    "import matplotlib.pyplot as plt\n",
    "from sklearn.linear_model import LinearRegression\n",
    "from sklearn.metrics import mean_squared_error\n",
    "\n",
    "df = pd.read_csv(\"california_rooms_price.csv\")\n",
    "X = df[['Rooms']].values\n",
    "y = df['Price'].values\n",
    "\n",
    "model = LinearRegression().fit(X, y)\n",
    "print('Bias (intercept):', model.intercept_)\n",
    "print('Weight (coefficient):', model.coef_[0])\n",
    "\n",
    "y_pred = model.predict(X)\n",
    "mse = mean_squared_error(y, y_pred)\n",
    "print('MSE:', mse)\n",
    "\n",
    "plt.scatter(X, y, alpha=0.3, label='Data')\n",
    "plt.plot(X, y_pred, color='green', linestyle='--', label='Sklearn Fit')\n",
    "plt.xlabel('Average Rooms')\n",
    "plt.ylabel('Median House Price')\n",
    "plt.legend()\n",
    "plt.grid(True)\n",
    "plt.show()\n"
   ]
  }
 ],
 "metadata": {
  "kernelspec": {
   "display_name": "Python 3 (ipykernel)",
   "language": "python",
   "name": "python3"
  },
  "language_info": {
   "codemirror_mode": {
    "name": "ipython",
    "version": 3
   },
   "file_extension": ".py",
   "mimetype": "text/x-python",
   "name": "python",
   "nbconvert_exporter": "python",
   "pygments_lexer": "ipython3",
   "version": "3.13.2"
  }
 },
 "nbformat": 4,
 "nbformat_minor": 5
}
