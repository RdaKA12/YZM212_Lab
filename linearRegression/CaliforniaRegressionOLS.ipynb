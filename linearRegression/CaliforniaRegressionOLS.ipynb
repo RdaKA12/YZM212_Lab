{
 "cells": [
  {
   "cell_type": "markdown",
   "id": "889478d0",
   "metadata": {},
   "source": [
    "# Linear Regression via Ordinary Least Squares (OLS)\n",
    "\n",
    "Veri: California Housing (Rooms vs Price)"
   ]
  },
  {
   "cell_type": "code",
   "execution_count": null,
   "id": "2bdb0cc4",
   "metadata": {},
   "outputs": [],
   "source": [
    "\n",
    "import pandas as pd\n",
    "import numpy as np\n",
    "import matplotlib.pyplot as plt\n",
    "\n",
    "df = pd.read_csv(\"california_rooms_price.csv\")\n",
    "X = df[['Rooms']].values\n",
    "y = df['Price'].values\n",
    "\n",
    "X_b = np.c_[np.ones((X.shape[0], 1)), X]\n",
    "theta = np.linalg.inv(X_b.T @ X_b) @ X_b.T @ y\n",
    "print(\"Theta (bias, weight):\", theta)\n",
    "\n",
    "y_pred = X_b @ theta\n",
    "mse = np.mean((y - y_pred) ** 2)\n",
    "print(\"MSE:\", mse)\n",
    "\n",
    "plt.scatter(X, y, alpha=0.3, label='Data')\n",
    "plt.plot(X, y_pred, color='red', label='OLS Fit')\n",
    "plt.xlabel('Average Rooms')\n",
    "plt.ylabel('Median House Price')\n",
    "plt.legend()\n",
    "plt.grid(True)\n",
    "plt.show()\n"
   ]
  }
 ],
 "metadata": {
  "kernelspec": {
   "display_name": "Python 3 (ipykernel)",
   "language": "python",
   "name": "python3"
  },
  "language_info": {
   "codemirror_mode": {
    "name": "ipython",
    "version": 3
   },
   "file_extension": ".py",
   "mimetype": "text/x-python",
   "name": "python",
   "nbconvert_exporter": "python",
   "pygments_lexer": "ipython3",
   "version": "3.13.2"
  }
 },
 "nbformat": 4,
 "nbformat_minor": 5
}
