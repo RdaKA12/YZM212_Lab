{
 "cells": [
  {
   "cell_type": "markdown",
   "id": "8c367679",
   "metadata": {},
   "source": [
    "# Comparison of OLS vs Scikit-learn\n",
    "\n",
    "Veri: California Housing (Rooms vs Price)"
   ]
  },
  {
   "cell_type": "code",
   "execution_count": null,
   "id": "fc02a195",
   "metadata": {},
   "outputs": [],
   "source": [
    "\n",
    "import pandas as pd\n",
    "import numpy as np\n",
    "import matplotlib.pyplot as plt\n",
    "from sklearn.linear_model import LinearRegression\n",
    "from sklearn.metrics import mean_squared_error\n",
    "\n",
    "df = pd.read_csv(\"california_rooms_price.csv\")\n",
    "X = df[['Rooms']].values\n",
    "y = df['Price'].values\n",
    "\n",
    "# OLS\n",
    "X_b = np.c_[np.ones((X.shape[0], 1)), X]\n",
    "theta = np.linalg.inv(X_b.T @ X_b) @ X_b.T @ y\n",
    "y_pred_ols = X_b @ theta\n",
    "mse_ols = np.mean((y - y_pred_ols) ** 2)\n",
    "\n",
    "# Sklearn\n",
    "model = LinearRegression().fit(X, y)\n",
    "y_pred_skl = model.predict(X)\n",
    "mse_skl = mean_squared_error(y, y_pred_skl)\n",
    "\n",
    "print(\"OLS MSE:\", mse_ols)\n",
    "print(\"Sklearn MSE:\", mse_skl)\n",
    "\n",
    "# Plot\n",
    "plt.scatter(X, y, alpha=0.3, label='Data')\n",
    "plt.plot(X, y_pred_ols, label='OLS Fit', color='red')\n",
    "plt.plot(X, y_pred_skl, label='Sklearn Fit', color='green', linestyle='--')\n",
    "plt.xlabel('Average Rooms')\n",
    "plt.ylabel('Median House Price')\n",
    "plt.legend()\n",
    "plt.grid(True)\n",
    "plt.show()\n"
   ]
  }
 ],
 "metadata": {
  "kernelspec": {
   "display_name": "Python 3 (ipykernel)",
   "language": "python",
   "name": "python3"
  },
  "language_info": {
   "codemirror_mode": {
    "name": "ipython",
    "version": 3
   },
   "file_extension": ".py",
   "mimetype": "text/x-python",
   "name": "python",
   "nbconvert_exporter": "python",
   "pygments_lexer": "ipython3",
   "version": "3.13.2"
  }
 },
 "nbformat": 4,
 "nbformat_minor": 5
}
